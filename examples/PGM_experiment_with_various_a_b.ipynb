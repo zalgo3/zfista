{
 "cells": [
  {
   "cell_type": "code",
   "execution_count": null,
   "id": "1636c933-2666-41d8-ae58-918ddb224a4f",
   "metadata": {},
   "outputs": [],
   "source": [
    "import sys\n",
    "\n",
    "%load_ext autoreload\n",
    "%load_ext line_profiler\n",
    "%autoreload 2\n",
    "\n",
    "\n",
    "sys.path.append(\"..\")"
   ]
  },
  {
   "cell_type": "code",
   "execution_count": null,
   "id": "global-parcel",
   "metadata": {
    "tags": []
   },
   "outputs": [],
   "source": [
    "import csv\n",
    "import os\n",
    "\n",
    "import matplotlib.pyplot as plt\n",
    "import numpy as np\n",
    "from joblib import Parallel, delayed\n",
    "from matplotlib import rc\n",
    "from tqdm.notebook import tqdm\n",
    "\n",
    "from zfista import minimize_proximal_gradient\n",
    "from zfista.problems import FDS, FDS_CONSTRAINED, JOS1, JOS1_L1, SD"
   ]
  },
  {
   "cell_type": "code",
   "execution_count": null,
   "id": "7612ad64-9587-41fe-83b5-9747ec82d9a8",
   "metadata": {},
   "outputs": [],
   "source": [
    "fig_path = os.path.abspath(os.path.join(\"./figs\"))\n",
    "data_path = os.path.abspath(os.path.join(\"./data\"))\n",
    "os.makedirs(fig_path, exist_ok=True)\n",
    "os.makedirs(data_path, exist_ok=True)\n",
    "rc(\"text\", usetex=True)\n",
    "plt.style.use([\"science\", \"bright\"])"
   ]
  },
  {
   "cell_type": "code",
   "execution_count": null,
   "id": "outside-recommendation",
   "metadata": {},
   "outputs": [],
   "source": [
    "from fractions import Fraction\n",
    "\n",
    "nesterov_ratios_f = [\n",
    "    (0, 0),\n",
    "    (0, Fraction(1, 8)),\n",
    "    (0, Fraction(1, 4)),\n",
    "    (Fraction(1, 6), Fraction(1, 144)),\n",
    "    (Fraction(1, 6), Fraction(37, 288)),\n",
    "    (Fraction(1, 6), Fraction(1, 4)),\n",
    "    (Fraction(1, 4), Fraction(1, 64)),\n",
    "    (Fraction(1, 4), Fraction(17, 128)),\n",
    "    (Fraction(1, 4), Fraction(1, 4)),\n",
    "    (Fraction(1, 2), Fraction(1, 16)),\n",
    "    (Fraction(1, 2), Fraction(5, 32)),\n",
    "    (Fraction(1, 2), Fraction(1, 4)),\n",
    "    (Fraction(3, 4), Fraction(9, 64)),\n",
    "    (Fraction(3, 4), Fraction(25, 128)),\n",
    "    (Fraction(3, 4), Fraction(1, 4)),\n",
    "]\n",
    "nesterov_ratios = [tuple(map(float, t)) for t in nesterov_ratios_f]\n",
    "\n",
    "\n",
    "def generate_start_points(low, high, n_dims, n_samples=1000):\n",
    "    return [\n",
    "        np.random.uniform(low=low, high=high, size=n_dims) for _ in range(n_samples)\n",
    "    ]\n",
    "\n",
    "\n",
    "def run(\n",
    "    problem,\n",
    "    start_points,\n",
    "    tol=1e-5,\n",
    "    nesterov=False,\n",
    "    nesterov_ratio=(0, 0.25),\n",
    "    n_jobs=-1,\n",
    "    verbose=False,\n",
    "):\n",
    "    results = Parallel(n_jobs=n_jobs, verbose=10)(\n",
    "        delayed(minimize_proximal_gradient)(\n",
    "            problem.f,\n",
    "            problem.g,\n",
    "            problem.jac_f,\n",
    "            problem.prox_wsum_g,\n",
    "            x0,\n",
    "            tol=tol,\n",
    "            nesterov=nesterov,\n",
    "            nesterov_ratio=nesterov_ratio,\n",
    "            return_all=False,\n",
    "            verbose=verbose,\n",
    "        )\n",
    "        for x0 in start_points\n",
    "    )\n",
    "    return results\n",
    "\n",
    "\n",
    "def show_Pareto_front(\n",
    "    problem, results, s=15, alpha=0.75, fname=None, elev=15, azim=130, linewidths=0.1\n",
    "):\n",
    "    fig = plt.figure(figsize=(7.5, 12.5), dpi=100)\n",
    "    if problem.m_dims == 2:\n",
    "        axs = [fig.add_subplot(5, 3, i + 1) for i in range(15)]\n",
    "        fig.subplots_adjust(left=0, right=1, bottom=0, top=1)\n",
    "    if problem.m_dims == 3:\n",
    "        axs = [\n",
    "            fig.add_subplot(5, 3, i + 1, projection=\"3d\", clip_on=True)\n",
    "            for i in range(15)\n",
    "        ]\n",
    "        for i in range(15):\n",
    "            axs[i].view_init(elev=elev, azim=azim)\n",
    "        fig.subplots_adjust(left=0, right=1, bottom=0, top=0.6)\n",
    "    for i, result in tqdm(enumerate(results)):\n",
    "        ax = axs[i]\n",
    "        ax.set_title(\"$(a, b) = (\" + \",\".join(map(str, nesterov_ratios_f[i])) + \")$\")\n",
    "        for result_k in tqdm(result):\n",
    "            F_pareto = result_k.fun\n",
    "            ax.scatter(\n",
    "                *F_pareto,\n",
    "                color=\"#2980b9\",\n",
    "                marker=\".\",\n",
    "                s=s,\n",
    "                alpha=alpha,\n",
    "                linewidths=linewidths,\n",
    "            )\n",
    "        ax.set_xlabel(r\"$F_1$\", fontsize=10)\n",
    "        ax.set_ylabel(r\"$F_2$\", fontsize=10)\n",
    "        ax.tick_params(labelsize=8)\n",
    "        if problem.m_dims == 3:\n",
    "            ax.set_zlabel(r\"$F_3$\", fontsize=10)\n",
    "    fig.tight_layout()\n",
    "    if fname is not None:\n",
    "        plt.savefig(fig_path + \"/\" + fname, bbox_inches=\"tight\")\n",
    "\n",
    "\n",
    "def get_stats(results):\n",
    "    nits = [result.nit for result in results]\n",
    "    nit_internals = [result.nit_internal for result in results]\n",
    "    execution_times = [result.execution_time for result in results]\n",
    "    stats = {\n",
    "        \"nit\": {\"mean\": np.mean(nits), \"std\": np.std(nits), \"max\": np.max(nits)},\n",
    "        \"nit_internal\": {\n",
    "            \"mean\": np.mean(nit_internals),\n",
    "            \"std\": np.std(nit_internals),\n",
    "            \"max\": np.max(nit_internals),\n",
    "        },\n",
    "        \"total_time\": {\n",
    "            \"mean\": np.mean(execution_times),\n",
    "            \"std\": np.std(execution_times),\n",
    "            \"max\": np.max(execution_times),\n",
    "        },\n",
    "    }\n",
    "    return stats"
   ]
  },
  {
   "cell_type": "markdown",
   "id": "legal-louisiana",
   "metadata": {},
   "source": [
    "## JOS1\n",
    "Minimize\n",
    "$$\n",
    "f_1(x) = \\frac{1}{n} \\| x \\|_2^2, \\quad f_2(x) = \\frac{1}{n} \\| x - 2\\|_2^2\n",
    "$$\n",
    "subject to $x \\in \\mathbf{R^n}$."
   ]
  },
  {
   "cell_type": "code",
   "execution_count": null,
   "id": "running-indicator",
   "metadata": {},
   "outputs": [],
   "source": [
    "n_dims = 50\n",
    "problem_JOS1 = JOS1(n_dims=n_dims)\n",
    "start_points_JOS1 = generate_start_points(low=-2, high=4, n_dims=n_dims)"
   ]
  },
  {
   "cell_type": "code",
   "execution_count": null,
   "id": "intellectual-latter",
   "metadata": {
    "scrolled": true
   },
   "outputs": [],
   "source": [
    "results_JOS1 = [\n",
    "    run(problem_JOS1, start_points_JOS1, nesterov=True, nesterov_ratio=nesterov_ratio)\n",
    "    for nesterov_ratio in tqdm(nesterov_ratios)\n",
    "]"
   ]
  },
  {
   "cell_type": "markdown",
   "id": "lined-lancaster",
   "metadata": {},
   "source": [
    "### Complexity"
   ]
  },
  {
   "cell_type": "code",
   "execution_count": null,
   "id": "former-bishop",
   "metadata": {},
   "outputs": [],
   "source": [
    "import pprint\n",
    "\n",
    "stats_JOS1 = {\n",
    "    \",\".join(map(str, nesterov_ratios_f[i])): get_stats(results_JOS1[i])\n",
    "    for i in range(len(nesterov_ratios))\n",
    "}\n",
    "pprint.pprint(stats_JOS1)\n",
    "\n",
    "with open(data_path + \"/JOS1_ab.csv\", \"w\") as f:\n",
    "    writer = csv.writer(f, escapechar=\" \", quoting=csv.QUOTE_NONE)\n",
    "    for k, v in stats_JOS1.items():\n",
    "        writer.writerow(\n",
    "            [k, round(v[\"total_time\"][\"mean\"], 3), round(v[\"nit\"][\"mean\"], 3)]\n",
    "        )"
   ]
  },
  {
   "cell_type": "code",
   "execution_count": null,
   "id": "organizational-option",
   "metadata": {},
   "outputs": [],
   "source": [
    "show_Pareto_front(problem_JOS1, results_JOS1, fname=\"JOS1_ab.pdf\")"
   ]
  },
  {
   "cell_type": "markdown",
   "id": "broken-nickname",
   "metadata": {},
   "source": [
    "## JOS1 + $\\ell_1$ penalty\n",
    "Minimize\n",
    "$$\n",
    "F_1(x) = \\frac{1}{n} \\| x \\|_2^2 + \\frac{1}{n} \\|x\\|_1, \\quad F_2(x) = \\frac{1}{n} \\| x - 2\\|_2^2 + \\frac{1}{2n} \\|x - 1\\|_1\n",
    "$$\n",
    "subject to $x \\in \\mathbf{R}^n$."
   ]
  },
  {
   "cell_type": "code",
   "execution_count": null,
   "id": "racial-uruguay",
   "metadata": {},
   "outputs": [],
   "source": [
    "n_dims = 50\n",
    "problem_JOS1_L1 = JOS1_L1(n_dims=n_dims, l1_ratios=(1 / n_dims, 1 / n_dims / 2))\n",
    "start_points_JOS1_L1 = generate_start_points(low=-2, high=4, n_dims=n_dims)"
   ]
  },
  {
   "cell_type": "code",
   "execution_count": null,
   "id": "effective-death",
   "metadata": {},
   "outputs": [],
   "source": [
    "results_JOS1_L1 = [\n",
    "    run(\n",
    "        problem_JOS1_L1,\n",
    "        start_points_JOS1_L1,\n",
    "        nesterov=True,\n",
    "        nesterov_ratio=nesterov_ratio,\n",
    "    )\n",
    "    for nesterov_ratio in tqdm(nesterov_ratios)\n",
    "]"
   ]
  },
  {
   "cell_type": "markdown",
   "id": "cardiac-bikini",
   "metadata": {},
   "source": [
    "### Complexity"
   ]
  },
  {
   "cell_type": "code",
   "execution_count": null,
   "id": "north-melbourne",
   "metadata": {},
   "outputs": [],
   "source": [
    "stats_JOS1_L1 = {\n",
    "    \",\".join(map(str, nesterov_ratios_f[i])): get_stats(results_JOS1_L1[i])\n",
    "    for i in range(len(nesterov_ratios))\n",
    "}\n",
    "pprint.pprint(stats_JOS1_L1)\n",
    "\n",
    "with open(data_path + \"/JOS1_L1_ab.csv\", \"w\") as f:\n",
    "    writer = csv.writer(f, escapechar=\" \", quoting=csv.QUOTE_NONE)\n",
    "    for k, v in stats_JOS1_L1.items():\n",
    "        writer.writerow(\n",
    "            [k, round(v[\"total_time\"][\"mean\"], 3), round(v[\"nit\"][\"mean\"], 3)]\n",
    "        )"
   ]
  },
  {
   "cell_type": "code",
   "execution_count": null,
   "id": "bibliographic-lighter",
   "metadata": {},
   "outputs": [],
   "source": [
    "show_Pareto_front(problem_JOS1_L1, results_JOS1_L1, fname=\"JOS1_L1_ab.pdf\")"
   ]
  },
  {
   "cell_type": "markdown",
   "id": "large-duration",
   "metadata": {},
   "source": [
    "## SD\n",
    "Minimize\n",
    "$$F_1(x) = 2 x_1 + \\sqrt{2} x_2 + \\sqrt{2} x_3 + x_4, \\quad F_2(x) = \\frac{2}{x_1} + \\frac{2 \\sqrt{2}}{x_2} + \\frac{2 \\sqrt{2}}{x_3} + \\frac{2}{x_4}$$\n",
    "subject to $(1, \\sqrt{2}, \\sqrt{2}, 1)^\\top \\le x \\le (3, 3, 3, 3)^\\top$."
   ]
  },
  {
   "cell_type": "code",
   "execution_count": null,
   "id": "speaking-nurse",
   "metadata": {},
   "outputs": [],
   "source": [
    "problem_SD = SD()\n",
    "start_points_SD = generate_start_points(\n",
    "    low=problem_SD.lb, high=problem_SD.ub, n_dims=problem_SD.n_dims\n",
    ")"
   ]
  },
  {
   "cell_type": "code",
   "execution_count": null,
   "id": "compressed-round",
   "metadata": {},
   "outputs": [],
   "source": [
    "results_SD = [\n",
    "    run(problem_SD, start_points_SD, nesterov=True, nesterov_ratio=nesterov_ratio)\n",
    "    for nesterov_ratio in tqdm(nesterov_ratios)\n",
    "]"
   ]
  },
  {
   "cell_type": "markdown",
   "id": "engaged-kinase",
   "metadata": {},
   "source": [
    "### Complexity"
   ]
  },
  {
   "cell_type": "code",
   "execution_count": null,
   "id": "vocal-gasoline",
   "metadata": {},
   "outputs": [],
   "source": [
    "stats_SD = {\n",
    "    \",\".join(map(str, nesterov_ratios_f[i])): get_stats(results_SD[i])\n",
    "    for i in range(len(nesterov_ratios))\n",
    "}\n",
    "pprint.pprint(stats_SD)\n",
    "\n",
    "with open(data_path + \"/SD_ab.csv\", \"w\") as f:\n",
    "    writer = csv.writer(f, escapechar=\" \", quoting=csv.QUOTE_NONE)\n",
    "    for k, v in stats_SD.items():\n",
    "        writer.writerow(\n",
    "            [k, round(v[\"total_time\"][\"mean\"], 3), round(v[\"nit\"][\"mean\"], 3)]\n",
    "        )"
   ]
  },
  {
   "cell_type": "code",
   "execution_count": null,
   "id": "great-travel",
   "metadata": {},
   "outputs": [],
   "source": [
    "%matplotlib inline\n",
    "show_Pareto_front(problem_SD, results_SD, fname=\"SD_ab.pdf\")"
   ]
  },
  {
   "cell_type": "markdown",
   "id": "convenient-walnut",
   "metadata": {},
   "source": [
    "## FDS\n",
    "Minimize\n",
    "$$F_1(x) = \\frac{1}{n^2} \\sum_{i = 1}^n i (x_i - i)^4, \\quad F_2(x) = \\exp \\left( \\sum_{i = 1}^n \\frac{x_i}{n} \\right) + \\|x\\|_2^2, \\quad F_3(x) = \\frac{1}{n(n + 1)} \\sum_{i = 1}^n i (n - i + 1) \\exp (- x_i)$$\n",
    "subject to $x \\in \\mathbf{R}^n$."
   ]
  },
  {
   "cell_type": "code",
   "execution_count": null,
   "id": "material-insight",
   "metadata": {},
   "outputs": [],
   "source": [
    "n_dims = 10\n",
    "problem_FDS = FDS(n_dims=n_dims)\n",
    "start_points_FDS = generate_start_points(low=-2, high=2, n_dims=n_dims)"
   ]
  },
  {
   "cell_type": "code",
   "execution_count": null,
   "id": "provincial-sodium",
   "metadata": {},
   "outputs": [],
   "source": [
    "results_FDS = [\n",
    "    run(problem_FDS, start_points_FDS, nesterov=True, nesterov_ratio=nesterov_ratio)\n",
    "    for nesterov_ratio in tqdm(nesterov_ratios)\n",
    "]"
   ]
  },
  {
   "cell_type": "markdown",
   "id": "boolean-essence",
   "metadata": {},
   "source": [
    "### Complexity"
   ]
  },
  {
   "cell_type": "code",
   "execution_count": null,
   "id": "handled-tender",
   "metadata": {},
   "outputs": [],
   "source": [
    "stats_FDS = {\n",
    "    \",\".join(map(str, nesterov_ratios_f[i])): get_stats(results_FDS[i])\n",
    "    for i in range(len(nesterov_ratios))\n",
    "}\n",
    "pprint.pprint(stats_FDS)\n",
    "\n",
    "with open(data_path + \"/FDS_ab.csv\", \"w\") as f:\n",
    "    writer = csv.writer(f, escapechar=\" \", quoting=csv.QUOTE_NONE)\n",
    "    for k, v in stats_FDS.items():\n",
    "        writer.writerow(\n",
    "            [k, round(v[\"total_time\"][\"mean\"], 3), round(v[\"nit\"][\"mean\"], 3)]\n",
    "        )"
   ]
  },
  {
   "cell_type": "code",
   "execution_count": null,
   "id": "indian-experiment",
   "metadata": {},
   "outputs": [],
   "source": [
    "%matplotlib inline\n",
    "show_Pareto_front(problem_FDS, results_FDS, fname=\"FDS_ab.pdf\")"
   ]
  },
  {
   "cell_type": "markdown",
   "id": "dd35664d",
   "metadata": {},
   "source": [
    "## FDS CONSTRAINED\n",
    "Minimize\n",
    "$$F_1(x) = \\frac{1}{n^2} \\sum_{i = 1}^n i (x_i - i)^4, \\quad F_2(x) = \\exp \\left( \\sum_{i = 1}^n \\frac{x_i}{n} \\right) + \\|x\\|_2^2, \\quad F_3(x) = \\frac{1}{n(n + 1)} \\sum_{i = 1}^n i (n - i + 1) \\exp (- x_i)$$\n",
    "subject to $x \\in \\mathbf{R}_+^n$."
   ]
  },
  {
   "cell_type": "code",
   "execution_count": null,
   "id": "coupled-worcester",
   "metadata": {},
   "outputs": [],
   "source": [
    "n_dims = 10\n",
    "problem_FDS_CONSTRAINED = FDS_CONSTRAINED(n_dims=n_dims)\n",
    "start_points_FDS_CONSTRAINED = generate_start_points(low=0, high=2, n_dims=n_dims)"
   ]
  },
  {
   "cell_type": "code",
   "execution_count": null,
   "id": "oriental-supplier",
   "metadata": {},
   "outputs": [],
   "source": [
    "results_FDS_CONSTRAINED = [\n",
    "    run(\n",
    "        problem_FDS_CONSTRAINED,\n",
    "        start_points_FDS_CONSTRAINED,\n",
    "        nesterov=True,\n",
    "        nesterov_ratio=nesterov_ratio,\n",
    "    )\n",
    "    for nesterov_ratio in tqdm(nesterov_ratios)\n",
    "]"
   ]
  },
  {
   "cell_type": "code",
   "execution_count": null,
   "id": "538ca218",
   "metadata": {},
   "outputs": [],
   "source": [
    "stats_FDS_CONSTRAINED = {\n",
    "    \",\".join(map(str, nesterov_ratios_f[i])): get_stats(results_FDS_CONSTRAINED[i])\n",
    "    for i in range(len(nesterov_ratios))\n",
    "}\n",
    "pprint.pprint(stats_FDS_CONSTRAINED)\n",
    "\n",
    "with open(data_path + \"/FDS_CONSTRAINED_ab.csv\", \"w\") as f:\n",
    "    writer = csv.writer(f, escapechar=\" \", quoting=csv.QUOTE_NONE)\n",
    "    for k, v in stats_FDS_CONSTRAINED.items():\n",
    "        writer.writerow(\n",
    "            [k, round(v[\"total_time\"][\"mean\"], 3), round(v[\"nit\"][\"mean\"], 3)]\n",
    "        )"
   ]
  },
  {
   "cell_type": "code",
   "execution_count": null,
   "id": "11fcf773",
   "metadata": {},
   "outputs": [],
   "source": [
    "%matplotlib inline\n",
    "show_Pareto_front(\n",
    "    problem_FDS_CONSTRAINED, results_FDS_CONSTRAINED, fname=\"FDS_CONSTRAINED_ab.pdf\"\n",
    ")"
   ]
  },
  {
   "cell_type": "code",
   "execution_count": null,
   "id": "1bd61a5d",
   "metadata": {},
   "outputs": [],
   "source": []
  }
 ],
 "metadata": {
  "kernelspec": {
   "display_name": "Python 3 (ipykernel)",
   "language": "python",
   "name": "python3"
  },
  "language_info": {
   "codemirror_mode": {
    "name": "ipython",
    "version": 3
   },
   "file_extension": ".py",
   "mimetype": "text/x-python",
   "name": "python",
   "nbconvert_exporter": "python",
   "pygments_lexer": "ipython3",
   "version": "3.10.10"
  }
 },
 "nbformat": 4,
 "nbformat_minor": 5
}
